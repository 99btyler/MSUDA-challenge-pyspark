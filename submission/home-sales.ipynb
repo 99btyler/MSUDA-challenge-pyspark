{
 "cells": [
  {
   "cell_type": "markdown",
   "metadata": {},
   "source": [
    "# Home Sales"
   ]
  },
  {
   "cell_type": "code",
   "execution_count": 1,
   "metadata": {},
   "outputs": [],
   "source": [
    "from pyspark import SparkFiles\n",
    "from pyspark.sql import SparkSession\n",
    "import time\n",
    "\n",
    "import findspark\n",
    "findspark.init()"
   ]
  },
  {
   "cell_type": "markdown",
   "metadata": {},
   "source": [
    "# Data collection"
   ]
  },
  {
   "cell_type": "code",
   "execution_count": 2,
   "metadata": {},
   "outputs": [
    {
     "name": "stderr",
     "output_type": "stream",
     "text": [
      "Setting default log level to \"WARN\".\n",
      "To adjust logging level use sc.setLogLevel(newLevel). For SparkR, use setLogLevel(newLevel).\n",
      "25/03/29 12:09:04 WARN NativeCodeLoader: Unable to load native-hadoop library for your platform... using builtin-java classes where applicable\n"
     ]
    }
   ],
   "source": [
    "spark = SparkSession.builder.appName(\"MSUDA-challenge-sparksql\").getOrCreate()\n",
    "\n",
    "url = \"https://2u-data-curriculum-team.s3.amazonaws.com/dataviz-classroom/v1.2/22-big-data/home_sales_revised.csv\"\n",
    "spark.sparkContext.addFile(url)"
   ]
  },
  {
   "cell_type": "code",
   "execution_count": 3,
   "metadata": {},
   "outputs": [],
   "source": [
    "home_sales_df = spark.read.csv(SparkFiles.get(\"home_sales_revised.csv\"), header=True, inferSchema=True)\n",
    "home_sales_df.createOrReplaceTempView(\"home_sales\")"
   ]
  },
  {
   "cell_type": "code",
   "execution_count": 4,
   "metadata": {},
   "outputs": [
    {
     "name": "stdout",
     "output_type": "stream",
     "text": [
      "+--------------------+----------+----------+------+--------+---------+-----------+--------+------+----------+----+\n",
      "|                  id|      date|date_built| price|bedrooms|bathrooms|sqft_living|sqft_lot|floors|waterfront|view|\n",
      "+--------------------+----------+----------+------+--------+---------+-----------+--------+------+----------+----+\n",
      "|f8a53099-ba1c-47d...|2022-04-08|      2016|936923|       4|        3|       3167|   11733|     2|         1|  76|\n",
      "|7530a2d8-1ae3-451...|2021-06-13|      2013|379628|       2|        2|       2235|   14384|     1|         0|  23|\n",
      "|43de979c-0bf0-4c9...|2019-04-12|      2014|417866|       2|        2|       2127|   10575|     2|         0|   0|\n",
      "|b672c137-b88c-48b...|2019-10-16|      2016|239895|       2|        2|       1631|   11149|     2|         0|   0|\n",
      "|e0726d4d-d595-407...|2022-01-08|      2017|424418|       3|        2|       2249|   13878|     2|         0|   4|\n",
      "+--------------------+----------+----------+------+--------+---------+-----------+--------+------+----------+----+\n",
      "\n"
     ]
    }
   ],
   "source": [
    "# verification\n",
    "spark.sql(\"SELECT * FROM home_sales LIMIT 5\").show()"
   ]
  },
  {
   "cell_type": "markdown",
   "metadata": {},
   "source": [
    "# Queries"
   ]
  },
  {
   "cell_type": "code",
   "execution_count": 5,
   "metadata": {},
   "outputs": [
    {
     "name": "stdout",
     "output_type": "stream",
     "text": [
      "+-------------+----+\n",
      "|price_average|year|\n",
      "+-------------+----+\n",
      "|     300263.7|2019|\n",
      "|    298353.78|2020|\n",
      "|    301819.44|2021|\n",
      "|    296363.88|2022|\n",
      "+-------------+----+\n",
      "\n"
     ]
    }
   ],
   "source": [
    "# What is the average price, rounded to 2 decimals, of a four-bedroom house for each year?\n",
    "spark.sql(\n",
    "    \"\"\"\n",
    "    SELECT round(AVG(price), 2) as price_average, YEAR(date) as year\n",
    "    FROM home_sales\n",
    "    WHERE bedrooms = 4\n",
    "    GROUP BY year\n",
    "    \n",
    "    ORDER BY year\n",
    "    \"\"\"\n",
    ").show()"
   ]
  },
  {
   "cell_type": "code",
   "execution_count": 6,
   "metadata": {},
   "outputs": [
    {
     "name": "stdout",
     "output_type": "stream",
     "text": [
      "+-------------+----------+\n",
      "|price_average|year_built|\n",
      "+-------------+----------+\n",
      "|    292859.62|      2010|\n",
      "|    291117.47|      2011|\n",
      "|    293683.19|      2012|\n",
      "|    295962.27|      2013|\n",
      "|    290852.27|      2014|\n",
      "|     288770.3|      2015|\n",
      "|    290555.07|      2016|\n",
      "|    292676.79|      2017|\n",
      "+-------------+----------+\n",
      "\n"
     ]
    }
   ],
   "source": [
    "# What is the average price, rounded to 2 decimals, of a home with three bedrooms and three bathrooms for each year the home was built?\n",
    "spark.sql(\n",
    "    \"\"\"\n",
    "    SELECT ROUND(AVG(price), 2) as price_average, date_built as year_built\n",
    "    FROM home_sales\n",
    "    WHERE bedrooms = 3 AND bathrooms = 3\n",
    "    GROUP BY year_built\n",
    "\n",
    "    ORDER BY year_built\n",
    "    \"\"\"\n",
    ").show()"
   ]
  },
  {
   "cell_type": "code",
   "execution_count": 7,
   "metadata": {},
   "outputs": [
    {
     "name": "stdout",
     "output_type": "stream",
     "text": [
      "+-------------+----------+\n",
      "|price_average|year_built|\n",
      "+-------------+----------+\n",
      "|    280447.23|      2010|\n",
      "|    281413.45|      2011|\n",
      "|    295858.68|      2012|\n",
      "|    295142.13|      2013|\n",
      "|    294195.13|      2014|\n",
      "|    291788.36|      2015|\n",
      "|     287812.6|      2016|\n",
      "|    282026.59|      2017|\n",
      "+-------------+----------+\n",
      "\n"
     ]
    }
   ],
   "source": [
    "# What is the average price, rounded to 2 decimals, of a home with three bedrooms, three bathrooms, two floors, and is >=2000 square feet for each year the home was built?\n",
    "spark.sql(\n",
    "    \"\"\"\n",
    "    SELECT ROUND(AVG(price), 2) as price_average, date_built as year_built\n",
    "    FROM home_sales\n",
    "    WHERE bedrooms = 3 AND bathrooms = 3 AND floors = 2 AND sqft_lot >= 2000\n",
    "    GROUP BY year_built\n",
    "\n",
    "    ORDER BY year_built\n",
    "    \"\"\"\n",
    ").show()"
   ]
  },
  {
   "cell_type": "code",
   "execution_count": 8,
   "metadata": {},
   "outputs": [
    {
     "name": "stdout",
     "output_type": "stream",
     "text": [
      "+-------------+-----------+\n",
      "|price_average|view_rating|\n",
      "+-------------+-----------+\n",
      "|    788128.21|         51|\n",
      "|    733780.26|         52|\n",
      "|     755214.8|         53|\n",
      "|    798684.82|         54|\n",
      "|    771153.32|         55|\n",
      "|     718176.4|         56|\n",
      "|     734340.5|         57|\n",
      "|    759764.65|         58|\n",
      "|     791453.0|         59|\n",
      "|    754939.65|         60|\n",
      "|    746877.59|         61|\n",
      "|    759150.14|         62|\n",
      "|    711614.55|         63|\n",
      "|    767036.67|         64|\n",
      "|    736679.93|         65|\n",
      "|     712475.0|         66|\n",
      "|    737970.96|         67|\n",
      "|    716785.44|         68|\n",
      "|    750537.94|         69|\n",
      "|    695865.58|         70|\n",
      "+-------------+-----------+\n",
      "only showing top 20 rows\n",
      "\n",
      "Query executed in 0.2 seconds\n"
     ]
    }
   ],
   "source": [
    "# What is the average price, rounded to 2 decimals, of a home with an average price >= $350,000 for each view rating\n",
    "start_time = time.time()\n",
    "spark.sql(\n",
    "    \"\"\"\n",
    "    SELECT ROUND(AVG(price), 2) as price_average, view as view_rating\n",
    "    FROM home_sales\n",
    "    GROUP BY view_rating\n",
    "    \n",
    "    HAVING price_average >= 350000\n",
    "    ORDER BY view_rating\n",
    "    \"\"\"\n",
    ").show()\n",
    "end_time = time.time()\n",
    "\n",
    "print(f\"Query executed in {round(end_time-start_time, 2)} seconds\")"
   ]
  }
 ],
 "metadata": {
  "kernelspec": {
   "display_name": "Python 3",
   "language": "python",
   "name": "python3"
  },
  "language_info": {
   "codemirror_mode": {
    "name": "ipython",
    "version": 3
   },
   "file_extension": ".py",
   "mimetype": "text/x-python",
   "name": "python",
   "nbconvert_exporter": "python",
   "pygments_lexer": "ipython3",
   "version": "3.9.6"
  }
 },
 "nbformat": 4,
 "nbformat_minor": 2
}
